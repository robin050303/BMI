{
 "cells": [
  {
   "cell_type": "code",
   "execution_count": 5,
   "id": "11876cc3",
   "metadata": {},
   "outputs": [
    {
     "name": "stdout",
     "output_type": "stream",
     "text": [
      "Nhập chiều cao (cm) : 158\n",
      "Nhập cân nặng (kg) : 38\n",
      "gầy cấp độ III\n"
     ]
    }
   ],
   "source": [
    "a = int(input(\"Nhập chiều cao (cm) : \"))\n",
    "b = int(input(\"Nhập cân nặng (kg) : \"))\n",
    "\n",
    "x = b/((a/100)*2)\n",
    "\n",
    "if x > 40 :\n",
    "    print(\"béo phì cấp độ III\")\n",
    "elif 40 > x >= 35:\n",
    "    print(\"béo phì cấp độ II\")\n",
    "elif 35 > x >= 30:\n",
    "    print(\"béo phì cấp độ I\")\n",
    "elif 30 > x >= 25:\n",
    "    print(\"thừa cân\")\n",
    "elif 25 > x >= 18.5:\n",
    "    print(\"bình thường\")\n",
    "elif 18.5 > x >= 17:\n",
    "    print(\"gầy cấp độ I\")\n",
    "elif 17 > x >= 16:\n",
    "    print(\"gầy cấp độ II\")\n",
    "elif 16 > x:\n",
    "    print(\"gầy cấp độ III\")\n",
    "    "
   ]
  }
 ],
 "metadata": {
  "kernelspec": {
   "display_name": "Python 3 (ipykernel)",
   "language": "python",
   "name": "python3"
  },
  "language_info": {
   "codemirror_mode": {
    "name": "ipython",
    "version": 3
   },
   "file_extension": ".py",
   "mimetype": "text/x-python",
   "name": "python",
   "nbconvert_exporter": "python",
   "pygments_lexer": "ipython3",
   "version": "3.10.0"
  }
 },
 "nbformat": 4,
 "nbformat_minor": 5
}
